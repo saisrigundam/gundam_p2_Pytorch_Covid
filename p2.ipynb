{
 "cells": [
  {
   "cell_type": "code",
   "execution_count": 1,
   "id": "e1a4c69f-105b-4443-881f-7fbee8d94910",
   "metadata": {},
   "outputs": [],
   "source": [
    "import pandas as pd\n",
    "import numpy as np\n",
    "import torch\n"
   ]
  },
  {
   "cell_type": "code",
   "execution_count": 2,
   "id": "87b8c556-3e63-4c37-a606-cc4d1dd53907",
   "metadata": {},
   "outputs": [],
   "source": [
    "train_df = pd.read_csv(\"train.csv\")\n",
    "test_df = pd.read_csv(\"test.csv\")"
   ]
  },
  {
   "cell_type": "code",
   "execution_count": 3,
   "id": "3d2cffc4-b26a-4c0e-8eef-7abf8bf87c8d",
   "metadata": {},
   "outputs": [],
   "source": [
    "# trainX = train_df.iloc[:,:-1]\n",
    "# trainY = train_df.iloc[:,-1:]\n",
    "# testX = test_df.iloc[:,:-1]\n",
    "# testY = test_df.iloc[:,-1:]"
   ]
  },
  {
   "cell_type": "code",
   "execution_count": 4,
   "id": "b0f8623a-b93a-44bc-9306-2008ffdc3b11",
   "metadata": {},
   "outputs": [],
   "source": [
    "# trainx_torch = torch.from_numpy(trainX.values.astype(np.float64))\n",
    "# trainy_torch = torch.from_numpy(trainY.values.astype(np.float64))\n",
    "# testx_torch = torch.from_numpy(testX.values.astype(np.float64))\n",
    "# testy_torch = torch.from_numpy(testY.values.astype(np.float64))\n",
    "trainx_torch = torch.tensor(train_df.values[:, :-1], dtype=torch.float64)\n",
    "trainy_torch = torch.tensor(train_df.values[:, -1:], dtype=torch.float64)\n",
    "testx_torch = torch.tensor(test_df.values[:, :-1], dtype=torch.float64)\n",
    "testy_torch = torch.tensor(test_df.values[:, -1:], dtype=torch.float64)"
   ]
  },
  {
   "cell_type": "code",
   "execution_count": 5,
   "id": "e6b06c34-6393-429c-adf7-0395a45df984",
   "metadata": {},
   "outputs": [
    {
     "data": {
      "text/plain": [
       "83520"
      ]
     },
     "execution_count": 5,
     "metadata": {},
     "output_type": "execute_result"
    }
   ],
   "source": [
    "#q1\n",
    "trainx_torch.nelement() * trainx_torch.element_size()"
   ]
  },
  {
   "cell_type": "code",
   "execution_count": 6,
   "id": "b52d1e71-c6dc-4a76-89a7-ef6de1b4530a",
   "metadata": {},
   "outputs": [],
   "source": [
    "trainx_torch_16 = trainx_torch.to(torch.float16)\n",
    "trainX_torch_64 = trainx_torch_16.to(torch.float64)\n",
    "max_diff_torch = torch.max(torch.abs(trainX_torch_64  - trainx_torch))"
   ]
  },
  {
   "cell_type": "code",
   "execution_count": 7,
   "id": "02bd33f3-b0b9-41de-a737-8d32c65792a9",
   "metadata": {},
   "outputs": [
    {
     "data": {
      "text/plain": [
       "0.0"
      ]
     },
     "execution_count": 7,
     "metadata": {},
     "output_type": "execute_result"
    }
   ],
   "source": [
    "#q2\n",
    "max_diff_torch.item()"
   ]
  },
  {
   "cell_type": "code",
   "execution_count": 8,
   "id": "6aaff5c1-a794-4e27-be5f-9be503039294",
   "metadata": {},
   "outputs": [
    {
     "data": {
      "text/plain": [
       "False"
      ]
     },
     "execution_count": 8,
     "metadata": {},
     "output_type": "execute_result"
    }
   ],
   "source": [
    "#q3\n",
    "torch.cuda.is_available()"
   ]
  },
  {
   "cell_type": "code",
   "execution_count": 9,
   "id": "476c2bb5-0e20-4d37-b36e-260dab30473c",
   "metadata": {},
   "outputs": [
    {
     "data": {
      "text/plain": [
       "9.844"
      ]
     },
     "execution_count": 9,
     "metadata": {},
     "output_type": "execute_result"
    }
   ],
   "source": [
    "#q4\n",
    "coef = torch.tensor([\n",
    "        [0.0040],\n",
    "        [0.0040],\n",
    "        [0.0040],\n",
    "        [0.0040],\n",
    "        [0.0040],\n",
    "        [0.0040], # POS_50_59_CP\n",
    "        [0.0300], # POS_60_69_CP\n",
    "        [0.0300],\n",
    "        [0.0300],\n",
    "        [0.0300]\n",
    "], dtype=trainx_torch.dtype)\n",
    "(testx_torch[0,:] @ coef).item()"
   ]
  },
  {
   "cell_type": "code",
   "execution_count": 10,
   "id": "7f3c2bc0-f30d-4370-a60a-cd18fad754e6",
   "metadata": {},
   "outputs": [
    {
     "data": {
      "text/plain": [
       "12.073632183908048"
      ]
     },
     "execution_count": 10,
     "metadata": {},
     "output_type": "execute_result"
    }
   ],
   "source": [
    "#q5\n",
    "torch.mean(testx_torch @ coef).item()"
   ]
  },
  {
   "cell_type": "code",
   "execution_count": 11,
   "id": "c9d3fdff-653c-4b72-bb8b-ead2b3e73f3d",
   "metadata": {},
   "outputs": [
    {
     "data": {
      "text/plain": [
       "19.0"
      ]
     },
     "execution_count": 11,
     "metadata": {},
     "output_type": "execute_result"
    }
   ],
   "source": [
    "#q6\n",
    "def func(x):\n",
    "    return x*x - 8*x + 19\n",
    "x = torch.tensor(0.0)\n",
    "y = func(x)\n",
    "float(y)"
   ]
  },
  {
   "cell_type": "code",
   "execution_count": 12,
   "id": "c6c16aba-59c0-4747-a7f0-1721ac0e3797",
   "metadata": {},
   "outputs": [
    {
     "data": {
      "text/plain": [
       "3.999999523162842"
      ]
     },
     "execution_count": 12,
     "metadata": {},
     "output_type": "execute_result"
    }
   ],
   "source": [
    "#q7\n",
    "x = torch.tensor(0.0, requires_grad=True)\n",
    "opt = torch.optim.SGD([x], lr=0.1)\n",
    "for epoch in range(100):\n",
    "    # print(\"Iteration: \", epoch)\n",
    "    y = func(x)\n",
    "    # plt.plot(x.detach(), y.detach(), \"ro\", markersize=3+epoch)\n",
    "    y.backward()\n",
    "    # print(x.grad)\n",
    "    opt.step()\n",
    "    opt.zero_grad()\n",
    "x.item()"
   ]
  },
  {
   "cell_type": "code",
   "execution_count": 13,
   "id": "aac9011d-65ba-472e-9042-a92d9b6e35dc",
   "metadata": {},
   "outputs": [
    {
     "data": {
      "text/plain": [
       "197.8007662835249"
      ]
     },
     "execution_count": 13,
     "metadata": {},
     "output_type": "execute_result"
    }
   ],
   "source": [
    "#q8\n",
    "ds = torch.utils.data.TensorDataset(trainx_torch, trainy_torch)\n",
    "dl = torch.utils.data.DataLoader(ds, batch_size=50, shuffle=True)\n",
    "loss_fn = torch.nn.MSELoss()\n",
    "coef = torch.zeros((trainx_torch.shape[1], trainy_torch.shape[1]), dtype=torch.float64, requires_grad=True)\n",
    "loss_fn(trainx_torch @ coef, trainy_torch).item()"
   ]
  },
  {
   "cell_type": "code",
   "execution_count": 14,
   "id": "5c83e26b-8fa9-4cfa-b237-3a8ede868d34",
   "metadata": {},
   "outputs": [],
   "source": [
    "loss_fn = torch.nn.MSELoss()\n",
    "torch.manual_seed(544)\n",
    "#coef = torch.rand((trainx_torch.shape[1], trainy_torch.shape[1]), dtype=torch.float64, requires_grad=True)\n",
    "coef = torch.zeros((trainx_torch.shape[1], trainy_torch.shape[1]), dtype=torch.float64, requires_grad=True)"
   ]
  },
  {
   "cell_type": "code",
   "execution_count": 15,
   "id": "5425588c-3109-4ea0-b107-4e1e0a6b9058",
   "metadata": {},
   "outputs": [
    {
     "data": {
      "text/plain": [
       "26.8113940147193"
      ]
     },
     "execution_count": 15,
     "metadata": {},
     "output_type": "execute_result"
    }
   ],
   "source": [
    "#q9\n",
    "optimizer = torch.optim.SGD([coef], lr=0.000002)\n",
    "for epoch in range(500):\n",
    "    for batchx, batchy in dl:\n",
    "        predictions = batchx @ coef\n",
    "        loss = loss_fn(predictions, batchy)\n",
    "        loss.backward()  #computes coef.grad\n",
    "        optimizer.step()\n",
    "        optimizer.zero_grad()\n",
    "    # print(loss)\n",
    "loss_fn(trainx_torch @ coef, trainy_torch).item()"
   ]
  },
  {
   "cell_type": "code",
   "execution_count": 16,
   "id": "d4e719c2-f927-41d1-bd6e-3466cd5afd4a",
   "metadata": {},
   "outputs": [
    {
     "data": {
      "text/plain": [
       "29.05854692548551"
      ]
     },
     "execution_count": 16,
     "metadata": {},
     "output_type": "execute_result"
    }
   ],
   "source": [
    "#q10\n",
    "loss_fn(testx_torch @ coef, testy_torch).item()"
   ]
  }
 ],
 "metadata": {
  "kernelspec": {
   "display_name": "Python 3 (ipykernel)",
   "language": "python",
   "name": "python3"
  },
  "language_info": {
   "codemirror_mode": {
    "name": "ipython",
    "version": 3
   },
   "file_extension": ".py",
   "mimetype": "text/x-python",
   "name": "python",
   "nbconvert_exporter": "python",
   "pygments_lexer": "ipython3",
   "version": "3.11.5"
  }
 },
 "nbformat": 4,
 "nbformat_minor": 5
}
